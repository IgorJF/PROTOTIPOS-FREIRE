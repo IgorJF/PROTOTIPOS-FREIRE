{
 "cells": [
  {
   "cell_type": "code",
   "execution_count": 5,
   "metadata": {},
   "outputs": [],
   "source": [
    "import re\n",
    "import pandas as pd\n",
    "\n",
    "def extrair_info_pdf(texto):\n",
    "    padrao_comentario = re.compile(r'([A-Z][a-z]+ [A-Z][a-z]+)\\n(.+?)(?=\\n[A-Z]|$)', re.DOTALL)\n",
    "    matches = padrao_comentario.findall(texto)\n",
    "\n",
    "    comentarios = [{'Nome': match[0], 'Comentário': match[1].strip()} for match in matches]\n",
    "    return comentarios\n",
    "\n",
    "def criar_planilha(comentarios, output_file='comentarios.xlsx'):\n",
    "    df = pd.DataFrame(comentarios)\n",
    "    df.to_excel(output_file, index=False)\n",
    "\n",
    "with open('joice amorim.txt', 'r', encoding='utf-8') as file:\n",
    "    texto = file.read()\n",
    "\n",
    "comentarios = extrair_info_pdf(texto)\n",
    "criar_planilha(comentarios)\n"
   ]
  },
  {
   "cell_type": "code",
   "execution_count": 5,
   "metadata": {},
   "outputs": [],
   "source": [
    "# import pandas as pd\n",
    "# from pandas import json_normalize\n",
    "# with open('rev.json', 'r', encoding='utf-8') as file:\n",
    "#     data = file.read()\n",
    "# df = pd.read_json(data)\n",
    "# df_reviews = json_normalize(df['reviews'])\n",
    "# df_selected = df_reviews[['reviewer.displayName', 'comment', 'createTime', 'updateTime']]\n",
    "# df_selected.to_excel('avaliacoes.xlsx', index=False)\n",
    "\n",
    "import pandas as pd\n",
    "from pandas import json_normalize\n",
    "import json\n",
    "\n",
    "with open('revcampos.json', 'r', encoding='utf-8') as file:\n",
    "    data = json.load(file)\n",
    "\n",
    "df_reviews = json_normalize(data, 'reviews', meta=['name'], meta_prefix='meta_', errors='ignore')\n",
    "\n",
    "df_selected = df_reviews[['reviewer.displayName', 'comment', 'updateTime']]\n",
    "\n",
    "df_selected.to_excel('avaliacoescampos.xlsx', index=False)\n",
    "\n",
    "\n",
    "\n",
    "\n"
   ]
  },
  {
   "cell_type": "code",
   "execution_count": 6,
   "metadata": {},
   "outputs": [],
   "source": [
    "import json\n",
    "import os\n",
    "\n",
    "diretorio = 'TAKEOUT/Takeout/Perfil da Empresa no Google/account-112886996051037499530/location-12814590788694268618/reviews'\n",
    "\n",
    "dados = []\n",
    "\n",
    "for nome_arquivo in os.listdir(diretorio):\n",
    "    if nome_arquivo.endswith('.json'):\n",
    "        caminho_arquivo = os.path.join(diretorio, nome_arquivo)\n",
    "        with open(caminho_arquivo, 'r') as arquivo:\n",
    "            dados.append(json.load(arquivo))\n",
    "\n",
    "caminho_saida = 'revcampos.json'\n",
    "\n",
    "with open(caminho_saida, 'w') as arquivo_saida:\n",
    "    json.dump(dados, arquivo_saida, indent=4)\n"
   ]
  }
 ],
 "metadata": {
  "kernelspec": {
   "display_name": "Python 3",
   "language": "python",
   "name": "python3"
  },
  "language_info": {
   "codemirror_mode": {
    "name": "ipython",
    "version": 3
   },
   "file_extension": ".py",
   "mimetype": "text/x-python",
   "name": "python",
   "nbconvert_exporter": "python",
   "pygments_lexer": "ipython3",
   "version": "3.11.9"
  }
 },
 "nbformat": 4,
 "nbformat_minor": 2
}
