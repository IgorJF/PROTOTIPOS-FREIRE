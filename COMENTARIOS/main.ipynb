{
 "cells": [
  {
   "cell_type": "code",
   "execution_count": 2,
   "metadata": {},
   "outputs": [],
   "source": [
    "from selenium import webdriver\n",
    "from selenium.webdriver.common.by import By\n",
    "from selenium.webdriver.support.ui import WebDriverWait\n",
    "from selenium.webdriver.support import expected_conditions as EC\n",
    "from parsel import Selector\n",
    "from openpyxl import Workbook\n",
    "\n",
    "# Inicialização do driver do Firefox\n",
    "driver = webdriver.Firefox()\n",
    "\n",
    "# Abrindo a página\n",
    "url = 'https://www.google.com/maps/place/Cl%C3%ADnica+Freire+Odontologia/@-21.0115254,-40.8114232,15z/data=!4m8!3m7!1s0xb93b83074dcca3:0xe7f1f42dee0de2bc!8m2!3d-21.0115254!4d-40.8114232!9m1!1b1!16s%2Fg%2F11fp8l28qv?entry=ttu'\n",
    "driver.get(url)\n",
    "\n",
    "# Esperar até que pelo menos uma avaliação seja carregada na página\n",
    "wait = WebDriverWait(driver, 10)\n",
    "wait.until(EC.presence_of_element_located((By.XPATH, '//div[@data-review-id]')))\n",
    "\n",
    "# Obter o conteúdo da página e criar um objeto Selector\n",
    "page_content = driver.page_source\n",
    "response = Selector(text=page_content)\n",
    "\n",
    "# Extrair os dados das avaliações\n",
    "results = []\n",
    "\n",
    "for el in response.xpath('//div[@data-review-id]'):\n",
    "    body = el.xpath('.//span[contains(@class, \"section-review-text\")]/text()').get(default='')\n",
    "    time = el.xpath('.//span[contains(@class, \"section-review-publish-date\")]/@aria-label').get(default='')\n",
    "    results.append({\n",
    "        'body': body,\n",
    "        'time': time\n",
    "    })\n",
    "\n",
    "# Fechar o navegador\n",
    "driver.quit()\n",
    "\n",
    "# Escrever os resultados em uma planilha Excel\n",
    "wb = Workbook()\n",
    "ws = wb.active\n",
    "ws.append(['Body', 'Time'])\n",
    "\n",
    "for result in results:\n",
    "    ws.append([result['body'], result['time']])\n",
    "\n",
    "wb.save('reviews.xlsx')\n"
   ]
  }
 ],
 "metadata": {
  "kernelspec": {
   "display_name": "Python 3",
   "language": "python",
   "name": "python3"
  },
  "language_info": {
   "codemirror_mode": {
    "name": "ipython",
    "version": 3
   },
   "file_extension": ".py",
   "mimetype": "text/x-python",
   "name": "python",
   "nbconvert_exporter": "python",
   "pygments_lexer": "ipython3",
   "version": "3.11.9"
  }
 },
 "nbformat": 4,
 "nbformat_minor": 2
}
