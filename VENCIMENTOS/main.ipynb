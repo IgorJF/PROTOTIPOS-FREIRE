{
 "cells": [
  {
   "cell_type": "code",
   "execution_count": 8,
   "metadata": {},
   "outputs": [
    {
     "name": "stdout",
     "output_type": "stream",
     "text": [
      "Mensagens enviadas com sucesso!\n"
     ]
    }
   ],
   "source": [
    "import pandas as pd\n",
    "import time\n",
    "import webbrowser\n",
    "from urllib.parse import quote\n",
    "import pyautogui\n",
    "\n",
    "def send_whatsapp_message(phone_number, message):\n",
    "    whatsapp_link = f\"https://web.whatsapp.com/send?phone={phone_number}&text={quote(message)}\"\n",
    "    webbrowser.open(whatsapp_link)\n",
    "    time.sleep(5)\n",
    "    pyautogui.click(918, 738) \n",
    "    time.sleep(2)\n",
    "    pyautogui.press('enter')\n",
    "    time.sleep(2)\n",
    "\n",
    "excel_file = 'contratos.xlsx'\n",
    "df = pd.read_excel(excel_file)\n",
    "\n",
    "for index, row in df.iterrows():\n",
    "    time.sleep(2)\n",
    "    phone_number = str(row['Número de Telefone'])\n",
    "    due_date = row['Data de Vencimento']\n",
    "    message = f\"Seu pagamento vencerá em {due_date}.\"\n",
    "    send_whatsapp_message(phone_number, message)\n",
    "\n",
    "print(\"Mensagens enviadas com sucesso!\")\n"
   ]
  }
 ],
 "metadata": {
  "kernelspec": {
   "display_name": "Python 3",
   "language": "python",
   "name": "python3"
  },
  "language_info": {
   "codemirror_mode": {
    "name": "ipython",
    "version": 3
   },
   "file_extension": ".py",
   "mimetype": "text/x-python",
   "name": "python",
   "nbconvert_exporter": "python",
   "pygments_lexer": "ipython3",
   "version": "3.11.9"
  }
 },
 "nbformat": 4,
 "nbformat_minor": 2
}
