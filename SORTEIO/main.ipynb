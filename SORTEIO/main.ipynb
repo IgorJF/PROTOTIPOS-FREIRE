{
 "cells": [
  {
   "cell_type": "code",
   "execution_count": null,
   "metadata": {},
   "outputs": [],
   "source": [
    "import re\n",
    "import pdfplumber\n",
    "from openpyxl import Workbook\n",
    "\n",
    "def extract_phone_numbers_from_pdf(pdf_file_path):\n",
    "    with pdfplumber.open(pdf_file_path) as pdf:\n",
    "        phone_numbers = []\n",
    "        \n",
    "        for page in pdf.pages:\n",
    "            page_text = page.extract_text()\n",
    "            phone_regex = r'\\+55\\s\\d{2}\\s\\d{4,5}-\\d{4}'\n",
    "            phone_numbers += re.findall(phone_regex, page_text)\n",
    "            \n",
    "    return phone_numbers\n",
    "\n",
    "def save_to_excel(phone_numbers, excel_file_path):\n",
    "    wb = Workbook()\n",
    "    ws = wb.active\n",
    "\n",
    "    for idx, phone_number in enumerate(phone_numbers, start=1):\n",
    "        ws.cell(row=idx, column=1, value=phone_number)\n",
    "\n",
    "    wb.save(excel_file_path)\n",
    "\n",
    "pdf_file_path = 'div tabindex2.pdf'\n",
    "excel_file_path = 'numeros_telefone.xlsx'\n",
    "phone_numbers = extract_phone_numbers_from_pdf(pdf_file_path)\n",
    "save_to_excel(phone_numbers, excel_file_path)\n",
    "print(\"Números de telefone salvos em\", excel_file_path)\n"
   ]
  },
  {
   "cell_type": "code",
   "execution_count": null,
   "metadata": {},
   "outputs": [],
   "source": [
    "import openpyxl\n",
    "import random\n",
    "\n",
    "workbook = openpyxl.load_workbook('numeros_telefone_freineticos.xlsx')\n",
    "\n",
    "sheet = workbook['Planilha1']\n",
    "\n",
    "numeros = [cell.value for row in sheet.iter_rows(min_row=2, max_row=sheet.max_row, min_col=1, max_col=1) for cell in row if cell.value is not None]\n",
    "\n",
    "numero_sorteado = random.choice(numeros)\n",
    "\n",
    "print(\"Número sorteado:\", numero_sorteado)\n"
   ]
  }
 ],
 "metadata": {
  "kernelspec": {
   "display_name": "Python 3",
   "language": "python",
   "name": "python3"
  },
  "language_info": {
   "codemirror_mode": {
    "name": "ipython",
    "version": 3
   },
   "file_extension": ".py",
   "mimetype": "text/x-python",
   "name": "python",
   "nbconvert_exporter": "python",
   "pygments_lexer": "ipython3",
   "version": "3.11.9"
  }
 },
 "nbformat": 4,
 "nbformat_minor": 2
}
