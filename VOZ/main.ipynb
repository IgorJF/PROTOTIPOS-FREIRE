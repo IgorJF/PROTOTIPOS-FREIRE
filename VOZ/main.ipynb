{
 "cells": [
  {
   "cell_type": "code",
   "execution_count": null,
   "metadata": {},
   "outputs": [],
   "source": [
    "import speech_recognition as sr\n",
    "\n",
    "# Função para gravar amostras de voz\n",
    "def gravar_amostra(nome):\n",
    "    recognizer = sr.Recognizer()\n",
    "    with sr.Microphone() as source:\n",
    "        print(f\"Fale algo, {nome}\")\n",
    "        audio = recognizer.listen(source)\n",
    "    with open(f\"{nome}.wav\", \"wb\") as f:\n",
    "        f.write(audio.get_wav_data())"
   ]
  }
 ],
 "metadata": {
  "language_info": {
   "name": "python"
  }
 },
 "nbformat": 4,
 "nbformat_minor": 2
}
