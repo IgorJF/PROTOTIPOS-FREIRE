{
 "cells": [
  {
   "cell_type": "code",
   "execution_count": 16,
   "metadata": {},
   "outputs": [],
   "source": [
    "import openpyxl\n",
    "import re\n",
    "\n",
    "def limpar_celula(celula):\n",
    "    match = re.match(r'(\\(?\\d{2}\\)?\\s?\\d{4,5}-?\\d{4})[;,]\\s*([A-Za-zÀ-ÖØ-öø-ÿ\\s]+)', celula)\n",
    "    if match:\n",
    "        return f\"{match.group(1)};{match.group(2)}\"\n",
    "    else:\n",
    "        return \"\"\n",
    "\n",
    "arquivo = openpyxl.load_workbook(\"atualizada.xlsx\")\n",
    "planilha = arquivo.active\n",
    "\n",
    "for linha in planilha.iter_rows():\n",
    "    for celula in linha:\n",
    "        if celula.value:\n",
    "            celula_limpa = limpar_celula(str(celula.value))\n",
    "            celula.value = celula_limpa\n",
    "\n",
    "arquivo.save('resultado2.xlsx')\n",
    "\n"
   ]
  },
  {
   "cell_type": "code",
   "execution_count": null,
   "metadata": {},
   "outputs": [],
   "source": [
    "import csv\n",
    "import re\n",
    "\n",
    "def limpar_linha(numero, nome):\n",
    "    match_numero = re.match(r'(\\(?\\d{2}\\)?\\s?\\d{4,5}-?\\d{4})', numero)\n",
    "    match_nome = re.match(r'(.+)', nome)\n",
    "    if match_numero and match_nome:\n",
    "        return f\"{match_numero.group(1)};{match_nome.group(1)}\"\n",
    "    else:\n",
    "        return \"\"\n",
    "\n",
    "with open('2021 lead frio.csv', 'r', newline='', encoding='latin-1') as arquivo_entrada, open('resultado2021frio.csv', 'w', newline='', encoding='utf-8') as arquivo_saida:\n",
    "    leitor_csv = csv.reader(arquivo_entrada)\n",
    "    escritor_csv = csv.writer(arquivo_saida)\n",
    "\n",
    "    next(leitor_csv)\n",
    "\n",
    "    for linha_numero, linha in enumerate(leitor_csv, start=2):\n",
    "        if len(linha) == 2: \n",
    "            numero = linha[0].replace(',', '').replace('.', '').replace(' ', '').replace('-', '').strip()  # Limpa o número de telefone\n",
    "            nome = linha[1].strip()  # Limpa o nome\n",
    "            linha_limpa = limpar_linha(numero, nome)\n",
    "            if linha_limpa:\n",
    "                escritor_csv.writerow(linha_limpa.split(';'))\n",
    "        else:\n",
    "            print(f\"Linha {linha_numero} ignorada - formato inválido: {linha}\")\n"
   ]
  },
  {
   "cell_type": "code",
   "execution_count": 14,
   "metadata": {},
   "outputs": [],
   "source": [
    "import openpyxl\n",
    "\n",
    "arquivo = openpyxl.load_workbook(\"Pasta1.xlsx\")\n",
    "planilha = arquivo.active\n",
    "\n",
    "linhas_a_remover = []\n",
    "\n",
    "for linha in range(1, planilha.max_row + 1):\n",
    "    numero = planilha.cell(row=linha, column=1).value\n",
    "    if not numero:\n",
    "        linhas_a_remover.append(linha)\n",
    "\n",
    "for linha in reversed(linhas_a_remover):\n",
    "    planilha.delete_rows(linha)\n",
    "\n",
    "arquivo.save('planilha_atualizada.xlsx')\n"
   ]
  }
 ],
 "metadata": {
  "kernelspec": {
   "display_name": "Python 3",
   "language": "python",
   "name": "python3"
  },
  "language_info": {
   "codemirror_mode": {
    "name": "ipython",
    "version": 3
   },
   "file_extension": ".py",
   "mimetype": "text/x-python",
   "name": "python",
   "nbconvert_exporter": "python",
   "pygments_lexer": "ipython3",
   "version": "3.11.9"
  }
 },
 "nbformat": 4,
 "nbformat_minor": 2
}
